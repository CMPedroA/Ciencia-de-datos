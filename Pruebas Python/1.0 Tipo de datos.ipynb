{
 "cells": [
  {
   "cell_type": "markdown",
   "metadata": {},
   "source": [
    "# Python 3.0 para jupyter"
   ]
  },
  {
   "cell_type": "markdown",
   "metadata": {},
   "source": [
    "###### BY_PedroCardona"
   ]
  },
  {
   "cell_type": "markdown",
   "metadata": {},
   "source": [
    "### Tipo de datos"
   ]
  },
  {
   "cell_type": "markdown",
   "metadata": {},
   "source": [
    "Los tipos de datos compuestos estándar se pueden clasificar como los dos siguientes:\n",
    "\n",
    "<b>Mutable</b>: su contenido (o dicho valor) puede cambiarse en tiempo de ejecución.\n",
    "<br><b>Inmutable</b> :su contenido (o dicho valor) no puede cambiarse en tiempo de ejecución."
   ]
  },
  {
   "cell_type": "markdown",
   "metadata": {},
   "source": [
    "### Números inmutables\n"
   ]
  },
  {
   "cell_type": "code",
   "execution_count": 17,
   "metadata": {},
   "outputs": [
    {
     "name": "stdout",
     "output_type": "stream",
     "text": [
      "entero:  100  flotante:  0.2703  boleano : True\n"
     ]
    }
   ],
   "source": [
    "entero = 100\n",
    "flotante = 0.2703\n",
    "boleano = str(True)\n",
    "print(\"entero: \" , entero, \" flotante: \" , flotante, \" boleano :\" , boleano )"
   ]
  },
  {
   "cell_type": "markdown",
   "metadata": {},
   "source": [
    "### Secuencias inmutables"
   ]
  },
  {
   "cell_type": "code",
   "execution_count": 19,
   "metadata": {},
   "outputs": [
    {
     "name": "stdout",
     "output_type": "stream",
     "text": [
      "Cadena :  Texto \n",
      "unicode: u'Jekechitü' \n",
      "Tupa: ('Python', True, 'Zope', 5)\n"
     ]
    }
   ],
   "source": [
    "cadena = \"Texto\"\n",
    "unicode = \"u'Jekechitü'\"\n",
    "tupa  =  (\"Python\", True, \"Zope\", 5)\n",
    "print(\"Cadena : \", cadena ,\"\\nunicode:\" , unicode, \"\\nTupa:\" , tupa)"
   ]
  },
  {
   "cell_type": "markdown",
   "metadata": {},
   "source": [
    "### Secuencias mutables"
   ]
  },
  {
   "cell_type": "code",
   "execution_count": 20,
   "metadata": {},
   "outputs": [
    {
     "name": "stdout",
     "output_type": "stream",
     "text": [
      "Lista de enteros :  [1, 2, 3, 4, 5] \n",
      "Lista de cadenas : ['hola', 'como', 'esta', '?'] \n",
      "Lista heterogenea:  ['Cene', 5, 'tacos']\n"
     ]
    }
   ],
   "source": [
    "ListaEnteros = [1,2,3,4,5]\n",
    "ListaCadena =[\"hola\",\"como\",\"esta\",\"?\"]\n",
    "ListaHeterogenea =[\"Cene\" , 5, \"tacos\"]\n",
    "print(\"Lista de enteros : \", ListaEnteros , \"\\nLista de cadenas :\" , ListaCadena, \"\\nLista heterogenea: \" , ListaHeterogenea)"
   ]
  },
  {
   "cell_type": "code",
   "execution_count": null,
   "metadata": {},
   "outputs": [],
   "source": []
  }
 ],
 "metadata": {
  "kernelspec": {
   "display_name": "Python 3",
   "language": "python",
   "name": "python3"
  },
  "language_info": {
   "codemirror_mode": {
    "name": "ipython",
    "version": 3
   },
   "file_extension": ".py",
   "mimetype": "text/x-python",
   "name": "python",
   "nbconvert_exporter": "python",
   "pygments_lexer": "ipython3",
   "version": "3.7.1"
  }
 },
 "nbformat": 4,
 "nbformat_minor": 2
}
