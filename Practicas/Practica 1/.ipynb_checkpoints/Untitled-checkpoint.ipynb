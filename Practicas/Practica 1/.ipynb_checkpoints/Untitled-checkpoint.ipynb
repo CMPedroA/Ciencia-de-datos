{
 "cells": [
  {
   "cell_type": "markdown",
   "metadata": {},
   "source": [
    "# Practica 1."
   ]
  },
  {
   "cell_type": "markdown",
   "metadata": {},
   "source": [
    "### Introducción\n"
   ]
  },
  {
   "cell_type": "markdown",
   "metadata": {},
   "source": [
    "<div style=\"text-align: justify; font-size: 18px;\">\n",
    "Dentro de la pagina https://datos.gob.mx/ se encuentran registrados todos los donativos otorgados por las Instituciones de la Administración Pública Federal, del periodo 01 de enero hasta el 31 de diciembre del 2017,\n",
    "los cuales pueden ser : \n",
    "<br>\n",
    "<ul>\n",
    "    <li>(48201) Donativos a instituciones sin fines de lucro </li>\n",
    "    <li>(48301) Donativos a entidades federativas o municipios  </li>\n",
    "    <li>(48401) Donativos a fideicomisos privados</li>\n",
    "    <li>(48501) Donativos a fideicomisos estatales </li>\n",
    "</ul>\n",
    "<br>\n",
    "Recordemos que el 1 de julio del 2012 se estuvieron realizando elecciones presidenciales en nuestro pais, lo cual podria generse las siguientes cuestiones :\n",
    "<ul>\n",
    "    <li>\n",
    "    \t¿Las elecciones presidenciales del 2012 fueron causa de un incremento en las donaciones de ese año?, de ser asi que sector fue el que tuvo mayor beneficio.\n",
    "    </li>\n",
    "    <li>\n",
    "    \t¿Las donaciones por parte del gobierno se centran mayormente en instituciones sin fines de lucro y/o enditades federativas o municipales?\n",
    "    </li>\n",
    "</ul>\n",
    "</div>"
   ]
  },
  {
   "cell_type": "markdown",
   "metadata": {},
   "source": [
    "## Preparación de los datos"
   ]
  },
  {
   "cell_type": "markdown",
   "metadata": {},
   "source": [
    "<div style=\"text-align: justify; font-size: 18px;\">\n",
    "Los datos que se utilizaran para este estudio de caso se obtienen directamente de la pagina https://datos.gob.mx/busca/dataset/donativos-otorgados, estos se encontraron  en formato CSV  Comma Separated Values (Valores separados por comas), en el se contempla el año, la institución, numero de contrato de la donacion asi como la fecha y el monto del mismo.\n",
    " <br/>\n",
    " </div>"
   ]
  },
  {
   "cell_type": "markdown",
   "metadata": {},
   "source": [
    "### Diccionario de datos"
   ]
  },
  {
   "cell_type": "markdown",
   "metadata": {},
   "source": [
    "<table>\n",
    "\t<thead>\n",
    "\t\t<tr>\n",
    "\t\t\t<th>Nombre</th>\n",
    "\t\t\t<th>Obligatoria</th>\n",
    "\t\t\t<th>Tipo</th>\n",
    "\t\t\t<th>Rango</th>\n",
    "\t\t\t<th>Unidad de Medida</th>\n",
    "\t\t\t<th>Observaciones</th>\n",
    "\t\t</tr>\n",
    "\t</thead>\n",
    "\t\t<tr>\n",
    "\t\t\t<td>EJERCICIO</td>\n",
    "\t\t\t<td>Sí</td>\n",
    "\t\t\t<td>Numérico</td>\n",
    "\t\t\t<td>2012-2017</td>\n",
    "\t\t\t<td>N/A</td>\n",
    "\t\t\t<td>Año del donativo</td>\n",
    "\t\t</tr>\n",
    "\t\t<tr>\n",
    "\t\t\t<td>NOMBRE_INSTITUCION</td>\n",
    "\t\t\t<td>Sí</td>\n",
    "\t\t\t<td>Texto</td>\n",
    "\t\t\t<td>N/A\t</td>\n",
    "\t\t\t<td>N/A</td>\n",
    "\t\t\t<td>Nombre de la institución que recibió el donativo</td>\n",
    "\t\t</tr>\n",
    "\t\t<tr>\n",
    "\t\t\t<td>NOMBRE_INSTITUCION</td>\n",
    "\t\t\t<td>Sí</td>\n",
    "\t\t\t<td>Texto</td>\n",
    "\t\t\t<td>N/A\t</td>\n",
    "\t\t\t<td>N/A</td>\n",
    "\t\t\t<td>Nombre de la institución que recibió el donativo</td>\n",
    "\t\t</tr>\n",
    "\t\t<tr>\n",
    "\t\t\t<td>CLAVE_PARTIDA</td>\n",
    "\t\t\t<td>Sí</td>\n",
    "\t\t\t<td>Int</td>\n",
    "\t\t\t<td>N/A</td>\n",
    "\t\t\t<td>N/A</td>\n",
    "\t\t\t<td>Identificador de la partida</td>\n",
    "\t\t</tr>\n",
    "\t\t<tr>\n",
    "\t\t\t<td>NUM_CONTRATO</td>\n",
    "\t\t\t<td>Sí</td>\n",
    "\t\t\t<td>Texto</td>\n",
    "\t\t\t<td>N/A\t</td>\n",
    "\t\t\t<td>N/A</td>\n",
    "\t\t\t<td>Número de contrato</td>\n",
    "\t\t</tr>\n",
    "\t\t<tr>\n",
    "\t\t\t<td>DONATARIO</td>\n",
    "\t\t\t<td>Sí</td>\n",
    "\t\t\t<td>Texto</td>\n",
    "\t\t\t<td>N/A\t</td>\n",
    "\t\t\t<td>N/A</td>\n",
    "\t\t\t<td>Nombre del donatario/td>\n",
    "\t\t</tr>\n",
    "\t\t<tr>\n",
    "\t\t\t<td>FECHA_CELEBRACION</td>\n",
    "\t\t\t<td>Sí</td>\n",
    "\t\t\t<td>Fecha</td>\n",
    "\t\t\t<td>N/A\t</td>\n",
    "\t\t\t<td>N/A</td>\n",
    "\t\t\t<td>Fecha de celebración del contrato</td>\n",
    "\t\t</tr>\n",
    "\t\t<tr>\n",
    "\t\t\t<td>MONTO_CONTRATO</td>\n",
    "\t\t\t<td>Sí</td>\n",
    "\t\t\t<td>Numérico</td>\n",
    "\t\t\t<td>0 - 147500000</td>\n",
    "\t\t\t<td>pesos</td>\n",
    "\t\t\t<td>Monto del contrato</td>\n",
    "\t\t</tr>\n",
    "\t\t<tr>\n",
    "\t\t\t<td>FECHA_CONCLUSION</td>\n",
    "\t\t\t<td>Sí</td>\n",
    "\t\t\t<td>Fecha</td>\n",
    "\t\t\t<td>N/A\t</td>\n",
    "\t\t\t<td>N/A</td>\n",
    "\t\t\t<td>Fecha de conclusión del contrato</td>\n",
    "\t\t</tr>\n",
    "\t\t<tr>\n",
    "\t\t\t<td>OBJETO_DONATIVO\t</td>\n",
    "\t\t\t<td>Sí</td>\n",
    "\t\t\t<td>Texto</td>\n",
    "\t\t\t<td>N/A\t</td>\n",
    "\t\t\t<td>N/A</td>\n",
    "\t\t\t<td>Objetivo del donativo</td>\n",
    "\t\t</tr>\n",
    "\t\t<tr>\n",
    "\t\t\t<td>TIPO_ACTIVIDADES_FINANCIAR</td>\n",
    "\t\t\t<td>Sí</td>\n",
    "\t\t\t<td>Texto</td>\n",
    "\t\t\t<td>N/A\t</td>\n",
    "\t\t\t<td>N/A</td>\n",
    "\t\t\t<td>Tipo de actividad</td>\n",
    "\t\t</tr>\n",
    "\t\t<tr>\n",
    "\t\t\t<td>MONTO_OTORGADO</td>\n",
    "\t\t\t<td>Sí</td>\n",
    "\t\t\t<td>Numérico</td>\n",
    "\t\t\t<td>0 -147500000</td>\n",
    "\t\t\t<td>pesos</td>\n",
    "\t\t\t<td>Monto otorgado a la institución</td>\n",
    "\t\t</tr>\n",
    "</table>"
   ]
  },
  {
   "cell_type": "markdown",
   "metadata": {},
   "source": [
    "<div style=\"text-align: justify; font-size: 18px;\">\n",
    "  Para la preparación de los datos se utilizo <a href=\"http://pandas.pydata.org/\">Pandas</a>   la cual es una librería de python destinada al análisis de datos, que proporciona unas estructuras de datos flexibles y que permiten trabajar con ellos de forma muy eficiente.\n",
    "  </div>"
   ]
  },
  {
   "cell_type": "code",
   "execution_count": 8,
   "metadata": {},
   "outputs": [
    {
     "data": {
      "text/html": [
       "<div>\n",
       "<style scoped>\n",
       "    .dataframe tbody tr th:only-of-type {\n",
       "        vertical-align: middle;\n",
       "    }\n",
       "\n",
       "    .dataframe tbody tr th {\n",
       "        vertical-align: top;\n",
       "    }\n",
       "\n",
       "    .dataframe thead th {\n",
       "        text-align: right;\n",
       "    }\n",
       "</style>\n",
       "<table border=\"1\" class=\"dataframe\">\n",
       "  <thead>\n",
       "    <tr style=\"text-align: right;\">\n",
       "      <th></th>\n",
       "      <th>0</th>\n",
       "      <th>1</th>\n",
       "      <th>2</th>\n",
       "      <th>3</th>\n",
       "      <th>4</th>\n",
       "      <th>5</th>\n",
       "      <th>6</th>\n",
       "      <th>7</th>\n",
       "      <th>8</th>\n",
       "      <th>9</th>\n",
       "      <th>10</th>\n",
       "    </tr>\n",
       "  </thead>\n",
       "  <tbody>\n",
       "    <tr>\n",
       "      <th>0</th>\n",
       "      <td>2012</td>\n",
       "      <td>ADMINISTRACIÓN DEL PATRIMONIO DE LA BENEFICIEN...</td>\n",
       "      <td>48101</td>\n",
       "      <td>1</td>\n",
       "      <td>ALIMENTANDO MENTES BRILLANTES</td>\n",
       "      <td>31/05/12</td>\n",
       "      <td>114000</td>\n",
       "      <td>07/12/12</td>\n",
       "      <td>EDUCACIÓN NUTRICIONAL PARA NIÑAS MADRE DE IZTA...</td>\n",
       "      <td>SALUD</td>\n",
       "      <td>114000</td>\n",
       "    </tr>\n",
       "    <tr>\n",
       "      <th>1</th>\n",
       "      <td>2012</td>\n",
       "      <td>ADMINISTRACIÓN DEL PATRIMONIO DE LA BENEFICIEN...</td>\n",
       "      <td>48101</td>\n",
       "      <td>10</td>\n",
       "      <td>ASOCIACIÓN DURANGUENSE DE DIABETES TIPO 1</td>\n",
       "      <td>31/05/12</td>\n",
       "      <td>204500</td>\n",
       "      <td>28/02/13</td>\n",
       "      <td>EN DIABETES, EL CONTROL ES VIDA.</td>\n",
       "      <td>SALUD</td>\n",
       "      <td>204500</td>\n",
       "    </tr>\n",
       "    <tr>\n",
       "      <th>2</th>\n",
       "      <td>2012</td>\n",
       "      <td>ADMINISTRACIÓN DEL PATRIMONIO DE LA BENEFICIEN...</td>\n",
       "      <td>48101</td>\n",
       "      <td>100</td>\n",
       "      <td>LA CASA DE LA SAL</td>\n",
       "      <td>31/05/12</td>\n",
       "      <td>100000</td>\n",
       "      <td>30/11/12</td>\n",
       "      <td>BRINDAR ATENCIÓN ALIMENTICIA Y MÉDICA PARA NIÑ...</td>\n",
       "      <td>SALUD</td>\n",
       "      <td>100000</td>\n",
       "    </tr>\n",
       "  </tbody>\n",
       "</table>\n",
       "</div>"
      ],
      "text/plain": [
       "     0                                                  1      2    3   \\\n",
       "0  2012  ADMINISTRACIÓN DEL PATRIMONIO DE LA BENEFICIEN...  48101    1   \n",
       "1  2012  ADMINISTRACIÓN DEL PATRIMONIO DE LA BENEFICIEN...  48101   10   \n",
       "2  2012  ADMINISTRACIÓN DEL PATRIMONIO DE LA BENEFICIEN...  48101  100   \n",
       "\n",
       "                                          4         5       6         7   \\\n",
       "0              ALIMENTANDO MENTES BRILLANTES  31/05/12  114000  07/12/12   \n",
       "1  ASOCIACIÓN DURANGUENSE DE DIABETES TIPO 1  31/05/12  204500  28/02/13   \n",
       "2                          LA CASA DE LA SAL  31/05/12  100000  30/11/12   \n",
       "\n",
       "                                                  8      9       10  \n",
       "0  EDUCACIÓN NUTRICIONAL PARA NIÑAS MADRE DE IZTA...  SALUD  114000  \n",
       "1                   EN DIABETES, EL CONTROL ES VIDA.  SALUD  204500  \n",
       "2  BRINDAR ATENCIÓN ALIMENTICIA Y MÉDICA PARA NIÑ...  SALUD  100000  "
      ]
     },
     "execution_count": 8,
     "metadata": {},
     "output_type": "execute_result"
    }
   ],
   "source": [
    "import pandas as pd\n",
    "data = pd.read_csv('Data/SIDEOF_donativos.csv', encoding='ISO-8859-1', header = None, skiprows =1)\n",
    "data.head(3)"
   ]
  },
  {
   "cell_type": "markdown",
   "metadata": {},
   "source": [
    "\n",
    "<div style=\"text-align: justify; font-size: 18px;\">\n",
    "Primero que nada importamos el archivo SIDEOF_donativos.csv con la funcion <a href=\"http://pandas.pydata.org/pandas-docs/stable/reference/api/pandas.read_csv.html\"> read_csv </a> y cambiamos el nombre de las columnas por numeros (no necesario), todo esto se almacena en al variable data.\n",
    "  </div>"
   ]
  },
  {
   "cell_type": "code",
   "execution_count": 9,
   "metadata": {},
   "outputs": [],
   "source": [
    "data = data.dropna(how='any')"
   ]
  },
  {
   "cell_type": "markdown",
   "metadata": {},
   "source": [
    "<div style=\"text-align: justify; font-size: 18px;\">\n",
    "Se valida y elimina  campos vacios con la funcion <a href=\"https://pandas.pydata.org/pandas-docs/stable/reference/api/pandas.DataFrame.drop.html\"> dropna</a>   \n",
    "  </div>"
   ]
  },
  {
   "cell_type": "code",
   "execution_count": null,
   "metadata": {},
   "outputs": [],
   "source": []
  }
 ],
 "metadata": {
  "kernelspec": {
   "display_name": "Python 3",
   "language": "python",
   "name": "python3"
  },
  "language_info": {
   "codemirror_mode": {
    "name": "ipython",
    "version": 3
   },
   "file_extension": ".py",
   "mimetype": "text/x-python",
   "name": "python",
   "nbconvert_exporter": "python",
   "pygments_lexer": "ipython3",
   "version": "3.7.1"
  }
 },
 "nbformat": 4,
 "nbformat_minor": 2
}
